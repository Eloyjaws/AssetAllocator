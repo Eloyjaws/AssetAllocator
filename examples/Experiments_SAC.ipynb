{
 "cells": [
  {
   "cell_type": "code",
   "execution_count": 1,
   "id": "discrete-presence",
   "metadata": {},
   "outputs": [],
   "source": [
    "# !pip install AssetAllocator"
   ]
  },
  {
   "cell_type": "code",
   "execution_count": 2,
   "id": "4187c0f7-e588-4b29-9093-55eff56739a4",
   "metadata": {},
   "outputs": [],
   "source": [
    "import os\n",
    "from AssetAllocator.trainer import Trainer\n",
    "from AssetAllocator.algorithms.SAC.agent import SACAgent"
   ]
  },
  {
   "cell_type": "code",
   "execution_count": null,
   "id": "30ae9b18-1328-4608-adab-688baff7afb7",
   "metadata": {},
   "outputs": [
    {
     "name": "stdout",
     "output_type": "stream",
     "text": [
      "Score at timestep 1836: 1.4070906390032472.\n",
      "Score at timestep 3680: 2.05364661432461.\n"
     ]
    }
   ],
   "source": [
    "model_name = 'SAC'\n",
    "dataset = 'DOW30'\n",
    "reward = False\n",
    "print_every = 1\n",
    "#timestep = 10_000\n",
    "#trading_cost = 0.0\n",
    "\n",
    "timesteps = [10_000, 100_000]\n",
    "trading_costs = [0, 0.001, 0.01]\n",
    "\n",
    "for timestep in timesteps:\n",
    "    for trading_cost in trading_costs:\n",
    "        if reward:\n",
    "            strng = 'LogRets'\n",
    "        else:\n",
    "            strng = 'ShRt'\n",
    "\n",
    "        path = f'Reward-{strng}_timestep-{timestep}_trading_cost-{trading_cost}'\n",
    "        isExist = os.path.exists(path)\n",
    "        if not isExist:\n",
    "            os.makedirs(path) \n",
    "\n",
    "        name = f'{path}/{model_name}_{path}'\n",
    "\n",
    "        trainer = Trainer('data/DOW30.csv', \n",
    "                         experiment_name = name, \n",
    "                         timesteps = timestep, \n",
    "                         print_every = print_every,\n",
    "                         episode_length = None,\n",
    "                         returns = reward,\n",
    "                         trading_cost_ratio = trading_cost ,\n",
    "                         lookback_period = 64,\n",
    "                         initial_investment = 1_000_000,\n",
    "                         random_start_range = 20,\n",
    "                         dsr_constant = 1e-4,\n",
    "                         add_softmax = True)\n",
    "\n",
    "        env = trainer.get_train_env()\n",
    "        model = SACAgent(env)\n",
    "        returns = trainer.run(model)"
   ]
  },
  {
   "cell_type": "code",
   "execution_count": null,
   "id": "1c3d682d-72c7-460c-ae10-d3bef6e06e14",
   "metadata": {},
   "outputs": [],
   "source": []
  },
  {
   "cell_type": "code",
   "execution_count": null,
   "id": "22ed50b9",
   "metadata": {},
   "outputs": [],
   "source": []
  }
 ],
 "metadata": {
  "kernelspec": {
   "display_name": "Python 3",
   "language": "python",
   "name": "python3"
  },
  "language_info": {
   "codemirror_mode": {
    "name": "ipython",
    "version": 3
   },
   "file_extension": ".py",
   "mimetype": "text/x-python",
   "name": "python",
   "nbconvert_exporter": "python",
   "pygments_lexer": "ipython3",
   "version": "3.8.0"
  }
 },
 "nbformat": 4,
 "nbformat_minor": 5
}
