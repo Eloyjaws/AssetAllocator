{
 "cells": [
  {
   "cell_type": "code",
   "execution_count": 1,
   "id": "4187c0f7-e588-4b29-9093-55eff56739a4",
   "metadata": {},
   "outputs": [],
   "source": [
    "import os\n",
    "from trainer import Trainer\n",
    "from algorithms.SAC.agent import SACAgent"
   ]
  },
  {
   "cell_type": "code",
   "execution_count": 2,
   "id": "30ae9b18-1328-4608-adab-688baff7afb7",
   "metadata": {},
   "outputs": [
    {
     "name": "stdout",
     "output_type": "stream",
     "text": [
      "Score at timestep 1846: 1.93562186527196.\n",
      "Score at timestep 3682: 1.2986099344156203.\n",
      "Score at timestep 5522: 2.0713533095804126.\n",
      "Score at timestep 7356: 1.1604421537616507.\n",
      "Score at timestep 9197: 2.146132634068077.\n"
     ]
    },
    {
     "name": "stderr",
     "output_type": "stream",
     "text": [
      "100%|██████████████████████████████████████████████████████████████████████████████████████████████████████████████████████████████████████████████████████████████████████████████████████████████████████████| 1/1 [00:02<00:00,  2.59s/it]\n"
     ]
    },
    {
     "name": "stdout",
     "output_type": "stream",
     "text": [
      "Score at timestep 1836: 1.3961210381595777.\n",
      "Score at timestep 3676: 1.8909714231247352.\n",
      "Score at timestep 5525: 1.9340813606856577.\n",
      "Score at timestep 7375: 2.225114546801498.\n",
      "Score at timestep 9213: 1.7315730625217973.\n"
     ]
    },
    {
     "name": "stderr",
     "output_type": "stream",
     "text": [
      "100%|██████████████████████████████████████████████████████████████████████████████████████████████████████████████████████████████████████████████████████████████████████████████████████████████████████████| 1/1 [00:02<00:00,  2.75s/it]\n"
     ]
    },
    {
     "name": "stdout",
     "output_type": "stream",
     "text": [
      "Score at timestep 1848: 1.8701021820670618.\n",
      "Score at timestep 3681: 1.0603455818233407.\n",
      "Score at timestep 5514: 1.0560096551624463.\n",
      "Score at timestep 7348: 1.1232181160627708.\n",
      "Score at timestep 9191: 2.0531802149157548.\n"
     ]
    },
    {
     "name": "stderr",
     "output_type": "stream",
     "text": [
      "100%|██████████████████████████████████████████████████████████████████████████████████████████████████████████████████████████████████████████████████████████████████████████████████████████████████████████| 1/1 [00:02<00:00,  2.71s/it]\n"
     ]
    },
    {
     "name": "stdout",
     "output_type": "stream",
     "text": [
      "Score at timestep 1833: 1.0378317031116795.\n",
      "Score at timestep 3669: 1.381666731641313.\n",
      "Score at timestep 5504: 1.2587504391921898.\n",
      "Score at timestep 7342: 1.581802928210037.\n",
      "Score at timestep 9175: 1.0832014910834955.\n",
      "Score at timestep 11013: 1.5961369836252994.\n",
      "Score at timestep 12855: 1.9721510065052617.\n",
      "Score at timestep 14703: 1.8981617871780376.\n",
      "Score at timestep 16542: 1.7097048617757735.\n",
      "Score at timestep 18372: 1.155566817119958.\n",
      "Score at timestep 20207: 1.2344162265860275.\n",
      "Score at timestep 22042: 1.2525303108427268.\n",
      "Score at timestep 23877: 1.2318455031972733.\n",
      "Score at timestep 25713: 1.3453257171939543.\n",
      "Score at timestep 27549: 1.3705617404553234.\n",
      "Score at timestep 29392: 2.031168005879796.\n",
      "Score at timestep 31225: 1.0830967236758062.\n",
      "Score at timestep 33068: 2.036828037245835.\n",
      "Score at timestep 34906: 1.5445746536941594.\n",
      "Score at timestep 36737: 1.0611990683388954.\n",
      "Score at timestep 38580: 2.0456970259874336.\n",
      "Score at timestep 40428: 1.8694618239867238.\n",
      "Score at timestep 42273: 2.023225223071405.\n",
      "Score at timestep 44113: 2.003940675088318.\n",
      "Score at timestep 45962: 1.8644653235984552.\n",
      "Score at timestep 47808: 1.8854211619831645.\n",
      "Score at timestep 49652: 1.9955439703692217.\n",
      "Score at timestep 51490: 1.5378583161181032.\n",
      "Score at timestep 53320: 1.0991080841538206.\n",
      "Score at timestep 55152: 0.900408692316924.\n",
      "Score at timestep 56997: 1.8880349983656375.\n",
      "Score at timestep 58831: 0.9526024053777833.\n",
      "Score at timestep 60681: 1.8695643595524498.\n",
      "Score at timestep 62522: 2.0032199177264913.\n",
      "Score at timestep 64371: 1.7319080069429014.\n",
      "Score at timestep 66216: 1.9162998081751927.\n",
      "Score at timestep 68047: 0.9488213165459791.\n",
      "Score at timestep 69896: 1.7966815529801754.\n",
      "Score at timestep 71728: 0.9886063131123669.\n",
      "Score at timestep 73558: 1.059841100143732.\n",
      "Score at timestep 75405: 1.8690887742676456.\n",
      "Score at timestep 77251: 1.8363357561998033.\n",
      "Score at timestep 79096: 1.9632241206929428.\n",
      "Score at timestep 80931: 1.1404069586302323.\n",
      "Score at timestep 82781: 1.9358075062121778.\n",
      "Score at timestep 84619: 1.4854784010061142.\n",
      "Score at timestep 86467: 1.8186131896229576.\n",
      "Score at timestep 88304: 1.466999634467247.\n",
      "Score at timestep 90151: 1.8774556099847668.\n",
      "Score at timestep 91983: 0.9767619096777541.\n",
      "Score at timestep 93824: 2.0787626787524127.\n",
      "Score at timestep 95673: 1.8135933617201925.\n",
      "Score at timestep 97519: 1.847188803853583.\n",
      "Score at timestep 99367: 1.8186415780076906.\n"
     ]
    },
    {
     "name": "stderr",
     "output_type": "stream",
     "text": [
      "100%|██████████████████████████████████████████████████████████████████████████████████████████████████████████████████████████████████████████████████████████████████████████████████████████████████████████| 1/1 [00:02<00:00,  2.43s/it]\n"
     ]
    },
    {
     "name": "stdout",
     "output_type": "stream",
     "text": [
      "Score at timestep 1841: 2.169815373280799.\n",
      "Score at timestep 3686: 2.0664406760378853.\n",
      "Score at timestep 5525: 1.7274115828655203.\n",
      "Score at timestep 7362: 1.5539116876536199.\n",
      "Score at timestep 9199: 1.5750125789267921.\n",
      "Score at timestep 11035: 1.4115826513326766.\n",
      "Score at timestep 12866: 1.116660033661912.\n",
      "Score at timestep 14713: 1.9445269516294195.\n",
      "Score at timestep 16561: 1.9454843215739313.\n",
      "Score at timestep 18394: 1.3091126118240302.\n",
      "Score at timestep 20242: 1.9705371927149733.\n",
      "Score at timestep 22089: 2.1746599119900067.\n",
      "Score at timestep 23936: 2.1993436160804216.\n",
      "Score at timestep 25773: 1.8684588527080483.\n",
      "Score at timestep 27615: 2.210272229683535.\n",
      "Score at timestep 29446: 1.2624671657394282.\n",
      "Score at timestep 31291: 2.145146032481895.\n",
      "Score at timestep 33136: 2.255127938671571.\n",
      "Score at timestep 34968: 1.151314691918231.\n",
      "Score at timestep 36803: 1.4557436560059935.\n",
      "Score at timestep 38649: 2.0628994770313094.\n",
      "Score at timestep 40483: 1.2556037069817223.\n",
      "Score at timestep 42316: 1.1709525806727716.\n",
      "Score at timestep 44152: 1.5707043528250697.\n",
      "Score at timestep 45987: 1.488935881101197.\n",
      "Score at timestep 47836: 1.9543336416351826.\n",
      "Score at timestep 49678: 2.165309062537328.\n",
      "Score at timestep 51514: 1.4070401195430482.\n",
      "Score at timestep 53351: 1.5887314264684123.\n",
      "Score at timestep 55195: 2.184743517948681.\n",
      "Score at timestep 57027: 1.2575355620042832.\n",
      "Score at timestep 58870: 2.2272155880117817.\n",
      "Score at timestep 60710: 2.230964647841246.\n",
      "Score at timestep 62559: 2.0911541394245603.\n",
      "Score at timestep 64390: 1.401776130505114.\n",
      "Score at timestep 66226: 1.5166535436820776.\n",
      "Score at timestep 68058: 1.3188673031512828.\n",
      "Score at timestep 69899: 2.326127797190515.\n",
      "Score at timestep 71736: 1.7724140900100225.\n",
      "Score at timestep 73583: 2.235374227180283.\n",
      "Score at timestep 75428: 2.2406940809263385.\n",
      "Score at timestep 77263: 1.4245459340262028.\n",
      "Score at timestep 79098: 1.4804322411695703.\n",
      "Score at timestep 80933: 1.4172640816051805.\n",
      "Score at timestep 82771: 1.7491900584836906.\n",
      "Score at timestep 84617: 2.0893182494039344.\n",
      "Score at timestep 86457: 2.217601073781724.\n",
      "Score at timestep 88288: 1.3116950631935589.\n",
      "Score at timestep 90137: 2.055938056874836.\n",
      "Score at timestep 91967: 1.3426881538563824.\n",
      "Score at timestep 93808: 2.3483224954068738.\n",
      "Score at timestep 95655: 2.1740611123988156.\n",
      "Score at timestep 97487: 1.2747914961017501.\n",
      "Score at timestep 99327: 2.223957740664184.\n"
     ]
    },
    {
     "name": "stderr",
     "output_type": "stream",
     "text": [
      "100%|██████████████████████████████████████████████████████████████████████████████████████████████████████████████████████████████████████████████████████████████████████████████████████████████████████████| 1/1 [00:02<00:00,  2.45s/it]\n"
     ]
    },
    {
     "name": "stdout",
     "output_type": "stream",
     "text": [
      "Score at timestep 1834: 1.1278493397886427.\n",
      "Score at timestep 3667: 1.0158403834270922.\n",
      "Score at timestep 5509: 1.9720226867147428.\n",
      "Score at timestep 7349: 2.1798323876466497.\n",
      "Score at timestep 9196: 2.0718996299296277.\n",
      "Score at timestep 11045: 2.022514088383757.\n",
      "Score at timestep 12880: 1.3743196082901874.\n",
      "Score at timestep 14730: 2.158869554423602.\n",
      "Score at timestep 16566: 1.5267719732184113.\n",
      "Score at timestep 18411: 2.1911596720224584.\n",
      "Score at timestep 20257: 2.0893607116711768.\n",
      "Score at timestep 22094: 1.731857328079255.\n",
      "Score at timestep 23944: 2.173158633302032.\n",
      "Score at timestep 25784: 2.1808995698644273.\n",
      "Score at timestep 27617: 1.1841019381854425.\n",
      "Score at timestep 29464: 2.1033094654062965.\n",
      "Score at timestep 31313: 2.0269656705276105.\n",
      "Score at timestep 33145: 1.1939061252928937.\n",
      "Score at timestep 34977: 1.1813952497751048.\n",
      "Score at timestep 36818: 2.270103029202655.\n",
      "Score at timestep 38649: 1.1952833667415494.\n",
      "Score at timestep 40492: 2.1491700950798363.\n",
      "Score at timestep 42324: 1.1870042828067888.\n",
      "Score at timestep 44170: 2.0494913609405185.\n",
      "Score at timestep 46012: 2.061373033488231.\n",
      "Score at timestep 47862: 2.1137367869219914.\n",
      "Score at timestep 49693: 1.1680228038944942.\n",
      "Score at timestep 51530: 1.6482922235117003.\n",
      "Score at timestep 53363: 1.1582515627504641.\n",
      "Score at timestep 55199: 1.4625887925664451.\n",
      "Score at timestep 57047: 1.988477483834298.\n",
      "Score at timestep 58889: 2.0474455745291706.\n",
      "Score at timestep 60726: 1.6509704883065597.\n",
      "Score at timestep 62557: 1.1676756561787687.\n",
      "Score at timestep 64405: 1.9912981325533963.\n",
      "Score at timestep 66249: 2.1071604089732827.\n",
      "Score at timestep 68091: 2.049260174953896.\n",
      "Score at timestep 69936: 2.1261382138000915.\n",
      "Score at timestep 71779: 2.1221499504949914.\n",
      "Score at timestep 73612: 1.1621029145797752.\n",
      "Score at timestep 75455: 2.1220983243307256.\n",
      "Score at timestep 77290: 1.3317318748749742.\n",
      "Score at timestep 79122: 1.1598071524625466.\n",
      "Score at timestep 80952: 1.2405975879149442.\n",
      "Score at timestep 82792: 2.1206587631892893.\n",
      "Score at timestep 84629: 1.6524746671160735.\n",
      "Score at timestep 86463: 1.217533550091634.\n",
      "Score at timestep 88296: 1.1621560642039244.\n",
      "Score at timestep 90140: 2.107158790739578.\n",
      "Score at timestep 91974: 1.217528301094991.\n",
      "Score at timestep 93821: 2.050998464064048.\n",
      "Score at timestep 95663: 2.049257090911801.\n",
      "Score at timestep 97504: 2.2423579012986714.\n",
      "Score at timestep 99338: 1.217530423616858.\n"
     ]
    },
    {
     "name": "stderr",
     "output_type": "stream",
     "text": [
      "100%|██████████████████████████████████████████████████████████████████████████████████████████████████████████████████████████████████████████████████████████████████████████████████████████████████████████| 1/1 [00:02<00:00,  2.49s/it]\n"
     ]
    }
   ],
   "source": [
    "model_name = 'SAC'\n",
    "dataset = 'DOW30'\n",
    "reward = False\n",
    "print_every = 1\n",
    "#timestep = 10_000\n",
    "#trading_cost = 0.0\n",
    "\n",
    "timesteps = [10_000, 100_000]\n",
    "trading_costs = [0, 0.001, 0.01]\n",
    "\n",
    "for timestep in timesteps:\n",
    "    for trading_cost in trading_costs:\n",
    "        if reward:\n",
    "            strng = 'LogRets'\n",
    "        else:\n",
    "            strng = 'ShRt'\n",
    "\n",
    "        path = f'Reward-{strng}_timestep-{timestep}_trading_cost-{trading_cost}'\n",
    "        isExist = os.path.exists(path)\n",
    "        if not isExist:\n",
    "            os.makedirs(path) \n",
    "\n",
    "        name = f'{path}/{model_name}_{path}'\n",
    "\n",
    "        trainer = Trainer('../data/DOW30.csv', \n",
    "                         experiment_name = name, \n",
    "                         timesteps = timestep, \n",
    "                         print_every = print_every,\n",
    "                         episode_length = None,\n",
    "                         returns = reward,\n",
    "                         trading_cost_ratio = trading_cost ,\n",
    "                         lookback_period = 64,\n",
    "                         initial_investment = 1_000_000,\n",
    "                         random_start_range = 20,\n",
    "                         dsr_constant = 1e-4,\n",
    "                         add_softmax = True)\n",
    "\n",
    "        env = trainer.get_train_env()\n",
    "        model = SACAgent(env)\n",
    "        returns = trainer.run(model)"
   ]
  },
  {
   "cell_type": "code",
   "execution_count": null,
   "id": "1c3d682d-72c7-460c-ae10-d3bef6e06e14",
   "metadata": {},
   "outputs": [],
   "source": []
  },
  {
   "cell_type": "code",
   "execution_count": null,
   "id": "22ed50b9",
   "metadata": {},
   "outputs": [],
   "source": []
  }
 ],
 "metadata": {
  "kernelspec": {
   "display_name": "Python 3 (ipykernel)",
   "language": "python",
   "name": "python3"
  },
  "language_info": {
   "codemirror_mode": {
    "name": "ipython",
    "version": 3
   },
   "file_extension": ".py",
   "mimetype": "text/x-python",
   "name": "python",
   "nbconvert_exporter": "python",
   "pygments_lexer": "ipython3",
   "version": "3.9.5"
  }
 },
 "nbformat": 4,
 "nbformat_minor": 5
}
