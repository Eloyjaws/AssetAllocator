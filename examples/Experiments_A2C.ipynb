{
 "cells": [
  {
   "cell_type": "code",
   "execution_count": 1,
   "id": "4f0d7c30-6b23-405c-bc0f-5a225fc74172",
   "metadata": {},
   "outputs": [],
   "source": [
    "import os\n",
    "from trainer import Trainer\n",
    "from algorithms.A2C.agent import A2CAgent"
   ]
  },
  {
   "cell_type": "code",
   "execution_count": 4,
   "id": "1c3d682d-72c7-460c-ae10-d3bef6e06e14",
   "metadata": {},
   "outputs": [
    {
     "name": "stdout",
     "output_type": "stream",
     "text": [
      "Score at timestep 1847: 2.3484255973762167.\n",
      "Score at timestep 3697: 2.369920240640194.\n",
      "Score at timestep 5539: 1.7381821330045917.\n",
      "Score at timestep 7383: 1.2545230361021749.\n",
      "Score at timestep 9225: 2.2796790853987288.\n"
     ]
    },
    {
     "name": "stderr",
     "output_type": "stream",
     "text": [
      "100%|█████████████████████████████████████████████████████████████████████████████████████| 1/1 [00:01<00:00,  1.64s/it]\n"
     ]
    },
    {
     "name": "stdout",
     "output_type": "stream",
     "text": [
      "Score at timestep 1847: 1.251672011267125.\n",
      "Score at timestep 3694: 1.8358751543709302.\n",
      "Score at timestep 5540: 2.1777577066809104.\n",
      "Score at timestep 7377: 2.031617393334565.\n",
      "Score at timestep 9214: 2.034015879613799.\n"
     ]
    },
    {
     "name": "stderr",
     "output_type": "stream",
     "text": [
      "100%|█████████████████████████████████████████████████████████████████████████████████████| 1/1 [00:01<00:00,  1.63s/it]\n"
     ]
    },
    {
     "name": "stdout",
     "output_type": "stream",
     "text": [
      "Score at timestep 1840: 2.0287862937076926.\n",
      "Score at timestep 3682: 1.548813172400691.\n",
      "Score at timestep 5513: 0.9960589705735746.\n",
      "Score at timestep 7357: 0.5686748086198817.\n",
      "Score at timestep 9207: 2.1130480953270814.\n"
     ]
    },
    {
     "name": "stderr",
     "output_type": "stream",
     "text": [
      "100%|█████████████████████████████████████████████████████████████████████████████████████| 1/1 [00:01<00:00,  1.62s/it]\n"
     ]
    },
    {
     "name": "stdout",
     "output_type": "stream",
     "text": [
      "Score at timestep 1842: 2.204568252780717.\n",
      "Score at timestep 3690: 2.6852770589734596.\n",
      "Score at timestep 5527: 0.8065768700290951.\n",
      "Score at timestep 7369: 1.8388581060241729.\n",
      "Score at timestep 9200: 1.3210431778582095.\n",
      "Score at timestep 11043: 2.558018378025739.\n",
      "Score at timestep 12890: 1.9996640948329873.\n",
      "Score at timestep 14738: 1.496741120740944.\n",
      "Score at timestep 16573: 1.36300109625635.\n",
      "Score at timestep 18414: 3.264744101251156.\n",
      "Score at timestep 20253: 1.6843908873430482.\n",
      "Score at timestep 22100: 1.5456069649819058.\n",
      "Score at timestep 23941: 1.4235922711454303.\n",
      "Score at timestep 25786: 2.5949155540166498.\n",
      "Score at timestep 27622: 0.6710757158697076.\n",
      "Score at timestep 29457: 0.8160870408942552.\n",
      "Score at timestep 31291: 0.7671294067333705.\n",
      "Score at timestep 33132: 2.074383887185184.\n",
      "Score at timestep 34982: 1.4168497958963293.\n",
      "Score at timestep 36828: 2.2182002925539863.\n",
      "Score at timestep 38675: 0.7971433056634027.\n",
      "Score at timestep 40507: 0.724015213129712.\n",
      "Score at timestep 42351: 1.889254881447576.\n",
      "Score at timestep 44189: 0.9275232700794681.\n",
      "Score at timestep 46021: 0.7022618582540038.\n",
      "Score at timestep 47869: 2.081855347378861.\n",
      "Score at timestep 49703: 1.2702918920148074.\n",
      "Score at timestep 51536: 1.2059680902425414.\n",
      "Score at timestep 53375: 1.8419952774438595.\n",
      "Score at timestep 55217: 2.687768899419268.\n",
      "Score at timestep 57058: 1.1816889565579032.\n",
      "Score at timestep 58903: 2.0007083984898335.\n",
      "Score at timestep 60738: 1.675765482313633.\n",
      "Score at timestep 62582: 1.8084953561306478.\n",
      "Score at timestep 64429: 3.320988689064652.\n",
      "Score at timestep 66259: 1.5703356665450037.\n",
      "Score at timestep 68104: 3.2530242349515297.\n",
      "Score at timestep 69946: 1.0619465668247057.\n",
      "Score at timestep 71796: 2.639438042241997.\n",
      "Score at timestep 73645: 0.5401637304854813.\n",
      "Score at timestep 75483: 0.7362945371001749.\n",
      "Score at timestep 77324: 2.5264048784750326.\n",
      "Score at timestep 79165: 0.1567807673793265.\n",
      "Score at timestep 81003: 0.6235489092527765.\n",
      "Score at timestep 82844: 1.5975391595541666.\n",
      "Score at timestep 84684: 1.6743084351840607.\n",
      "Score at timestep 86534: -0.4193342135356583.\n",
      "Score at timestep 88368: 0.8238732930848561.\n",
      "Score at timestep 90209: 0.7915905675358242.\n",
      "Score at timestep 92058: 0.8487767408467072.\n",
      "Score at timestep 93903: 0.2880366512398971.\n",
      "Score at timestep 95733: -0.5253654725470415.\n",
      "Score at timestep 97583: 1.0244060434531674.\n",
      "Score at timestep 99424: 1.3884684350896996.\n"
     ]
    },
    {
     "name": "stderr",
     "output_type": "stream",
     "text": [
      "100%|█████████████████████████████████████████████████████████████████████████████████████| 1/1 [00:01<00:00,  1.63s/it]\n"
     ]
    },
    {
     "name": "stdout",
     "output_type": "stream",
     "text": [
      "Score at timestep 1844: 1.817593922723948.\n",
      "Score at timestep 3674: 1.1739019661571815.\n",
      "Score at timestep 5518: 1.8780328988343613.\n",
      "Score at timestep 7358: 0.9584442737875031.\n",
      "Score at timestep 9202: 0.7204524590734454.\n",
      "Score at timestep 11036: 0.5574599821636071.\n",
      "Score at timestep 12877: 2.1041621559492594.\n",
      "Score at timestep 14721: 1.4875139410637166.\n",
      "Score at timestep 16565: 1.4232273729922567.\n",
      "Score at timestep 18399: -0.1585930566454559.\n",
      "Score at timestep 20241: 1.5187691990649588.\n",
      "Score at timestep 22088: 0.9252208352169882.\n",
      "Score at timestep 23922: 1.2041549625913432.\n",
      "Score at timestep 25757: 1.411749814269746.\n",
      "Score at timestep 27595: 2.8521526766710816.\n",
      "Score at timestep 29425: 0.8096724710575345.\n",
      "Score at timestep 31266: 2.8091614769550284.\n",
      "Score at timestep 33107: 1.3446129594874237.\n",
      "Score at timestep 34937: 0.36333384836777055.\n",
      "Score at timestep 36777: 1.9722786444254223.\n",
      "Score at timestep 38618: 1.7182588214830212.\n",
      "Score at timestep 40450: -0.15321413597574843.\n",
      "Score at timestep 42281: 0.5899012053780615.\n",
      "Score at timestep 44111: 0.8373059841151609.\n",
      "Score at timestep 45951: 1.767020879503459.\n",
      "Score at timestep 47792: 0.8178659959089989.\n",
      "Score at timestep 49622: 0.36761502060019213.\n",
      "Score at timestep 51452: 0.4311196591083463.\n",
      "Score at timestep 53293: 2.010393110244095.\n",
      "Score at timestep 55138: 0.423671037965436.\n",
      "Score at timestep 56979: 0.9637189740724293.\n",
      "Score at timestep 58814: 0.6122596521153395.\n",
      "Score at timestep 60656: 2.249890739193719.\n",
      "Score at timestep 62499: 1.5712987494735737.\n",
      "Score at timestep 64346: 1.166363088380622.\n",
      "Score at timestep 66189: 2.018278494944284.\n",
      "Score at timestep 68038: 2.3175501647748176.\n",
      "Score at timestep 69872: -0.21767532420482072.\n",
      "Score at timestep 71704: 0.02871175736062704.\n",
      "Score at timestep 73549: 1.2966805961247803.\n",
      "Score at timestep 75397: 1.5888169827744.\n",
      "Score at timestep 77231: 0.0012600239452353595.\n",
      "Score at timestep 79077: 1.6419442201681278.\n",
      "Score at timestep 80909: -0.09084091618591729.\n",
      "Score at timestep 82749: 1.6424911304988987.\n",
      "Score at timestep 84579: 0.6783005347179901.\n",
      "Score at timestep 86425: 0.20435602130211453.\n",
      "Score at timestep 88270: 1.0020640260777083.\n",
      "Score at timestep 90110: 1.5207574529175951.\n",
      "Score at timestep 91954: 1.1311176386379762.\n",
      "Score at timestep 93803: 1.7450532506424419.\n",
      "Score at timestep 95652: 2.221136884173466.\n",
      "Score at timestep 97489: 0.8544944544699047.\n",
      "Score at timestep 99338: 2.025358320254277.\n"
     ]
    },
    {
     "name": "stderr",
     "output_type": "stream",
     "text": [
      "100%|█████████████████████████████████████████████████████████████████████████████████████| 1/1 [00:02<00:00,  2.46s/it]\n"
     ]
    },
    {
     "name": "stdout",
     "output_type": "stream",
     "text": [
      "Score at timestep 1832: 1.1821788214790243.\n",
      "Score at timestep 3673: 2.1300856600082874.\n",
      "Score at timestep 5518: 1.9672394053604583.\n",
      "Score at timestep 7349: 0.9795350692190943.\n",
      "Score at timestep 9183: 1.641618475774085.\n",
      "Score at timestep 11025: 2.0372747574858563.\n",
      "Score at timestep 12875: 1.6944023825973182.\n",
      "Score at timestep 14707: 1.1251107676840042.\n",
      "Score at timestep 16554: 1.3697098225507336.\n",
      "Score at timestep 18394: 2.4337884332305744.\n",
      "Score at timestep 20230: 1.6531634052762747.\n",
      "Score at timestep 22079: 2.406362656438636.\n",
      "Score at timestep 23913: 1.7434434615783394.\n",
      "Score at timestep 25760: 2.063588930161138.\n",
      "Score at timestep 27600: 2.477301843957216.\n",
      "Score at timestep 29434: 0.9524879105612709.\n",
      "Score at timestep 31279: 1.075525855518791.\n",
      "Score at timestep 33116: 2.367399029644898.\n",
      "Score at timestep 34953: 2.432401548813812.\n",
      "Score at timestep 36788: 0.8538071736333938.\n",
      "Score at timestep 38623: 0.830172936319579.\n",
      "Score at timestep 40453: 1.5240457431888401.\n",
      "Score at timestep 42293: 0.58305497262569.\n",
      "Score at timestep 44129: 1.3021373695278033.\n",
      "Score at timestep 45966: 1.820740732442076.\n",
      "Score at timestep 47816: 2.3205815976311053.\n",
      "Score at timestep 49662: 1.798652156464408.\n",
      "Score at timestep 51496: 2.15554649581506.\n",
      "Score at timestep 53346: 1.5030281996376447.\n",
      "Score at timestep 55179: 1.6439312869618243.\n",
      "Score at timestep 57021: 2.1960682233688082.\n",
      "Score at timestep 58863: 0.94409354653702.\n",
      "Score at timestep 60703: 1.1357503034657848.\n",
      "Score at timestep 62544: 2.523830892478725.\n",
      "Score at timestep 64389: 1.7688835069292117.\n",
      "Score at timestep 66234: 2.595152412405339.\n",
      "Score at timestep 68066: 1.3346118761374695.\n",
      "Score at timestep 69898: 1.7956929963170487.\n",
      "Score at timestep 71740: 0.9688375757353977.\n",
      "Score at timestep 73571: 0.511951808532819.\n",
      "Score at timestep 75420: 2.1794985736064656.\n",
      "Score at timestep 77259: 1.0796340010032093.\n",
      "Score at timestep 79089: 0.7007139002574789.\n",
      "Score at timestep 80929: 2.5295894400055987.\n",
      "Score at timestep 82772: 0.8747481328462796.\n",
      "Score at timestep 84606: 1.2759338332792678.\n",
      "Score at timestep 86446: 2.179667471002339.\n",
      "Score at timestep 88284: 0.910536180501425.\n",
      "Score at timestep 90134: 2.1122188442071197.\n",
      "Score at timestep 91966: 1.1368280000892943.\n",
      "Score at timestep 93810: 2.215524646299932.\n",
      "Score at timestep 95646: 0.7886054728809268.\n",
      "Score at timestep 97483: 1.3834814663226795.\n",
      "Score at timestep 99318: 0.5375812683343726.\n"
     ]
    },
    {
     "name": "stderr",
     "output_type": "stream",
     "text": [
      "100%|█████████████████████████████████████████████████████████████████████████████████████| 1/1 [00:01<00:00,  1.61s/it]\n"
     ]
    }
   ],
   "source": [
    "model_name = 'A2Cv2'\n",
    "dataset = 'DOW30'\n",
    "reward = False\n",
    "print_every = 1\n",
    "#timestep = 10_000\n",
    "#trading_cost = 0.0\n",
    "\n",
    "timesteps = [10_000, 100_000]\n",
    "trading_costs = [0, 0.001, 0.01]\n",
    "\n",
    "for timestep in timesteps:\n",
    "    for trading_cost in trading_costs:\n",
    "        if reward:\n",
    "            strng = 'LogRets'\n",
    "        else:\n",
    "            strng = 'ShRt'\n",
    "\n",
    "        path = f'Reward-{strng}_timestep-{timestep}_trading_cost-{trading_cost}'\n",
    "        isExist = os.path.exists(path)\n",
    "        if not isExist:\n",
    "            os.makedirs(path) \n",
    "\n",
    "        name = f'{path}/{model_name}_{path}'\n",
    "\n",
    "        trainer = Trainer('../data/DOW30.csv', \n",
    "                         experiment_name = name, \n",
    "                         timesteps = timestep, \n",
    "                         print_every = print_every,\n",
    "                         episode_length = None,\n",
    "                         returns = reward,\n",
    "                         trading_cost_ratio = trading_cost ,\n",
    "                         lookback_period = 64,\n",
    "                         initial_investment = 1_000_000,\n",
    "                         random_start_range = 20,\n",
    "                         dsr_constant = 1e-4,\n",
    "                         add_softmax = False)\n",
    "\n",
    "        env = trainer.get_train_env()\n",
    "        model = A2CAgent(env)\n",
    "        returns = trainer.run(model)"
   ]
  },
  {
   "cell_type": "code",
   "execution_count": null,
   "id": "8cffb5bd-00fc-48ca-a629-bf04922fe85e",
   "metadata": {},
   "outputs": [],
   "source": []
  },
  {
   "cell_type": "code",
   "execution_count": null,
   "id": "22ed50b9",
   "metadata": {},
   "outputs": [],
   "source": []
  }
 ],
 "metadata": {
  "kernelspec": {
   "display_name": "Python 3 (ipykernel)",
   "language": "python",
   "name": "python3"
  },
  "language_info": {
   "codemirror_mode": {
    "name": "ipython",
    "version": 3
   },
   "file_extension": ".py",
   "mimetype": "text/x-python",
   "name": "python",
   "nbconvert_exporter": "python",
   "pygments_lexer": "ipython3",
   "version": "3.9.5"
  }
 },
 "nbformat": 4,
 "nbformat_minor": 5
}
