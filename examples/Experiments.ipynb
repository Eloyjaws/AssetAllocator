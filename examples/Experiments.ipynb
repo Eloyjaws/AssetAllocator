{
 "cells": [
  {
   "cell_type": "code",
   "execution_count": 1,
   "id": "90f0053a",
   "metadata": {},
   "outputs": [],
   "source": [
    "from experiment import Experiment"
   ]
  },
  {
   "cell_type": "code",
   "execution_count": 2,
   "id": "bbfe8c4b",
   "metadata": {},
   "outputs": [
    {
     "name": "stderr",
     "output_type": "stream",
     "text": [
      "100%|████████████████████████████████████████████████████████████████████████████████████| 1/1 [00:02<00:00,  2.79s/it]\n"
     ]
    },
    {
     "name": "stdout",
     "output_type": "stream",
     "text": [
      "Reward-LogRets_timestep-10_trading_cost-0 : 0.3958935324377435\n"
     ]
    },
    {
     "name": "stderr",
     "output_type": "stream",
     "text": [
      "100%|████████████████████████████████████████████████████████████████████████████████████| 1/1 [00:02<00:00,  2.75s/it]\n"
     ]
    },
    {
     "name": "stdout",
     "output_type": "stream",
     "text": [
      "Reward-LogRets_timestep-10_trading_cost-0.001 : 0.3957236357389793\n"
     ]
    },
    {
     "name": "stderr",
     "output_type": "stream",
     "text": [
      "100%|████████████████████████████████████████████████████████████████████████████████████| 1/1 [00:02<00:00,  2.78s/it]\n"
     ]
    },
    {
     "name": "stdout",
     "output_type": "stream",
     "text": [
      "Reward-LogRets_timestep-10_trading_cost-0.01 : 0.3941965059368937\n"
     ]
    },
    {
     "name": "stderr",
     "output_type": "stream",
     "text": [
      "100%|████████████████████████████████████████████████████████████████████████████████████| 1/1 [00:02<00:00,  2.74s/it]\n"
     ]
    },
    {
     "name": "stdout",
     "output_type": "stream",
     "text": [
      "Reward-LogRets_timestep-100_trading_cost-0 : 0.48382540706536115\n"
     ]
    },
    {
     "name": "stderr",
     "output_type": "stream",
     "text": [
      "100%|████████████████████████████████████████████████████████████████████████████████████| 1/1 [00:02<00:00,  2.84s/it]\n"
     ]
    },
    {
     "name": "stdout",
     "output_type": "stream",
     "text": [
      "Reward-LogRets_timestep-100_trading_cost-0.001 : 0.48346419520581496\n"
     ]
    },
    {
     "name": "stderr",
     "output_type": "stream",
     "text": [
      "100%|████████████████████████████████████████████████████████████████████████████████████| 1/1 [00:02<00:00,  2.95s/it]\n"
     ]
    },
    {
     "name": "stdout",
     "output_type": "stream",
     "text": [
      "Reward-LogRets_timestep-100_trading_cost-0.01 : 0.4802380930992334\n"
     ]
    },
    {
     "name": "stderr",
     "output_type": "stream",
     "text": [
      "100%|████████████████████████████████████████████████████████████████████████████████████| 1/1 [00:03<00:00,  3.19s/it]\n"
     ]
    },
    {
     "name": "stdout",
     "output_type": "stream",
     "text": [
      "Reward-ShRt_timestep-10_trading_cost-0 : 0.3958935324377435\n"
     ]
    },
    {
     "name": "stderr",
     "output_type": "stream",
     "text": [
      "100%|████████████████████████████████████████████████████████████████████████████████████| 1/1 [00:03<00:00,  3.99s/it]\n"
     ]
    },
    {
     "name": "stdout",
     "output_type": "stream",
     "text": [
      "Reward-ShRt_timestep-10_trading_cost-0.001 : 0.3957236357389793\n"
     ]
    },
    {
     "name": "stderr",
     "output_type": "stream",
     "text": [
      "100%|████████████████████████████████████████████████████████████████████████████████████| 1/1 [00:03<00:00,  3.30s/it]\n"
     ]
    },
    {
     "name": "stdout",
     "output_type": "stream",
     "text": [
      "Reward-ShRt_timestep-10_trading_cost-0.01 : 0.3941965059368937\n"
     ]
    },
    {
     "name": "stderr",
     "output_type": "stream",
     "text": [
      "100%|████████████████████████████████████████████████████████████████████████████████████| 1/1 [00:03<00:00,  3.13s/it]\n"
     ]
    },
    {
     "name": "stdout",
     "output_type": "stream",
     "text": [
      "Reward-ShRt_timestep-100_trading_cost-0 : 0.48382540706536115\n"
     ]
    },
    {
     "name": "stderr",
     "output_type": "stream",
     "text": [
      "100%|████████████████████████████████████████████████████████████████████████████████████| 1/1 [00:03<00:00,  3.03s/it]\n"
     ]
    },
    {
     "name": "stdout",
     "output_type": "stream",
     "text": [
      "Reward-ShRt_timestep-100_trading_cost-0.001 : 0.48346419520581496\n"
     ]
    },
    {
     "name": "stderr",
     "output_type": "stream",
     "text": [
      "100%|████████████████████████████████████████████████████████████████████████████████████| 1/1 [00:02<00:00,  2.92s/it]"
     ]
    },
    {
     "name": "stdout",
     "output_type": "stream",
     "text": [
      "Reward-ShRt_timestep-100_trading_cost-0.01 : 0.4802380930992334\n"
     ]
    },
    {
     "name": "stderr",
     "output_type": "stream",
     "text": [
      "\n"
     ]
    }
   ],
   "source": [
    "#keyword arguments to pass to trainer class (remember to change test_runs for stochastic models)\n",
    "trainer_kw = {'print_every': 10, 'test_runs': 1} \n",
    "\n",
    "#keyword arguments to pass to your models (during hyperparameter tuning)\n",
    "model_kw = {} \n",
    "\n",
    "exp = Experiment(trainer_kwargs = trainer_kw, \n",
    "                 model_kwargs = model_kw)\n",
    "\n",
    "#exp.run('Random')\n",
    "#exp.run('MPT')\n",
    "#exp.run('BuyAndHold')\n",
    "#exp.run('Uniform')\n",
    "#exp.run('TD3')\n",
    "exp.run('NAF')\n",
    "#exp.run('SAC')\n",
    "#exp.run('A2C')\n",
    "# exp.run('PPO') -> Not working due to API mismatch issues\n",
    "# exp.run('TRPO') -> Not working due to API mismatch issues\n",
    "# exp.run('DDPG') -> Not working due to API mismatch issues\n",
    "# exp.run('REINFORCE') -> Not working due to API mismatch issues\n"
   ]
  },
  {
   "cell_type": "markdown",
   "id": "16339e87",
   "metadata": {},
   "source": [
    "Please define a new experiment class / arguments for each model to avoid introducing some weird python bugs. Better still, just copy and past the code into another cell and run that cell for the model"
   ]
  },
  {
   "cell_type": "markdown",
   "id": "3b5b7a17",
   "metadata": {},
   "source": [
    "If your model is overfitting/underfitting with 10k and 100k, you can pass an additional list of training timesteps as shown below:"
   ]
  },
  {
   "cell_type": "code",
   "execution_count": 3,
   "id": "f9ab5612",
   "metadata": {},
   "outputs": [
    {
     "name": "stdout",
     "output_type": "stream",
     "text": [
      "Startup memory filled!\n"
     ]
    },
    {
     "name": "stderr",
     "output_type": "stream",
     "text": [
      "100%|████████████████████████████████████████████████████████████████████████████████████| 1/1 [00:01<00:00,  1.26s/it]\n"
     ]
    },
    {
     "name": "stdout",
     "output_type": "stream",
     "text": [
      "Reward-LogRets_timestep-1_trading_cost-0 : 0.40024594807585556\n",
      "Startup memory filled!\n"
     ]
    },
    {
     "name": "stderr",
     "output_type": "stream",
     "text": [
      "100%|████████████████████████████████████████████████████████████████████████████████████| 1/1 [00:01<00:00,  1.23s/it]\n"
     ]
    },
    {
     "name": "stdout",
     "output_type": "stream",
     "text": [
      "Reward-LogRets_timestep-1_trading_cost-0.001 : 0.4004108541254763\n",
      "Startup memory filled!\n"
     ]
    },
    {
     "name": "stderr",
     "output_type": "stream",
     "text": [
      "100%|████████████████████████████████████████████████████████████████████████████████████| 1/1 [00:01<00:00,  1.17s/it]\n"
     ]
    },
    {
     "name": "stdout",
     "output_type": "stream",
     "text": [
      "Reward-LogRets_timestep-1_trading_cost-0.01 : 0.40035574248337946\n",
      "Startup memory filled!\n"
     ]
    },
    {
     "name": "stderr",
     "output_type": "stream",
     "text": [
      "100%|████████████████████████████████████████████████████████████████████████████████████| 1/1 [00:01<00:00,  1.18s/it]\n"
     ]
    },
    {
     "name": "stdout",
     "output_type": "stream",
     "text": [
      "Reward-LogRets_timestep-5_trading_cost-0 : 0.40033953029015157\n",
      "Startup memory filled!\n"
     ]
    },
    {
     "name": "stderr",
     "output_type": "stream",
     "text": [
      "100%|████████████████████████████████████████████████████████████████████████████████████| 1/1 [00:01<00:00,  1.19s/it]\n"
     ]
    },
    {
     "name": "stdout",
     "output_type": "stream",
     "text": [
      "Reward-LogRets_timestep-5_trading_cost-0.001 : 0.40028326869477704\n",
      "Startup memory filled!\n"
     ]
    },
    {
     "name": "stderr",
     "output_type": "stream",
     "text": [
      "100%|████████████████████████████████████████████████████████████████████████████████████| 1/1 [00:01<00:00,  1.21s/it]\n"
     ]
    },
    {
     "name": "stdout",
     "output_type": "stream",
     "text": [
      "Reward-LogRets_timestep-5_trading_cost-0.01 : 0.40017469658445837\n",
      "Startup memory filled!\n"
     ]
    },
    {
     "name": "stderr",
     "output_type": "stream",
     "text": [
      "100%|████████████████████████████████████████████████████████████████████████████████████| 1/1 [00:01<00:00,  1.17s/it]\n"
     ]
    },
    {
     "name": "stdout",
     "output_type": "stream",
     "text": [
      "Reward-ShRt_timestep-1_trading_cost-0 : 0.4003685904755594\n",
      "Startup memory filled!\n"
     ]
    },
    {
     "name": "stderr",
     "output_type": "stream",
     "text": [
      "100%|████████████████████████████████████████████████████████████████████████████████████| 1/1 [00:01<00:00,  1.21s/it]\n"
     ]
    },
    {
     "name": "stdout",
     "output_type": "stream",
     "text": [
      "Reward-ShRt_timestep-1_trading_cost-0.001 : 0.40030229910554804\n",
      "Startup memory filled!\n"
     ]
    },
    {
     "name": "stderr",
     "output_type": "stream",
     "text": [
      "100%|████████████████████████████████████████████████████████████████████████████████████| 1/1 [00:01<00:00,  1.17s/it]\n"
     ]
    },
    {
     "name": "stdout",
     "output_type": "stream",
     "text": [
      "Reward-ShRt_timestep-1_trading_cost-0.01 : 0.4001883603543719\n",
      "Startup memory filled!\n"
     ]
    },
    {
     "name": "stderr",
     "output_type": "stream",
     "text": [
      "100%|████████████████████████████████████████████████████████████████████████████████████| 1/1 [00:01<00:00,  1.21s/it]\n"
     ]
    },
    {
     "name": "stdout",
     "output_type": "stream",
     "text": [
      "Reward-ShRt_timestep-5_trading_cost-0 : 0.40033464059559676\n",
      "Startup memory filled!\n"
     ]
    },
    {
     "name": "stderr",
     "output_type": "stream",
     "text": [
      "100%|████████████████████████████████████████████████████████████████████████████████████| 1/1 [00:01<00:00,  1.17s/it]\n"
     ]
    },
    {
     "name": "stdout",
     "output_type": "stream",
     "text": [
      "Reward-ShRt_timestep-5_trading_cost-0.001 : 0.40028688907584176\n",
      "Startup memory filled!\n"
     ]
    },
    {
     "name": "stderr",
     "output_type": "stream",
     "text": [
      "100%|████████████████████████████████████████████████████████████████████████████████████| 1/1 [00:01<00:00,  1.19s/it]"
     ]
    },
    {
     "name": "stdout",
     "output_type": "stream",
     "text": [
      "Reward-ShRt_timestep-5_trading_cost-0.01 : 0.40015142520860647\n"
     ]
    },
    {
     "name": "stderr",
     "output_type": "stream",
     "text": [
      "\n"
     ]
    }
   ],
   "source": [
    "trainer_kw = {'print_every': 10, 'test_runs': 1}\n",
    "model_kw = {}\n",
    "timesteps = [1, 5]\n",
    "\n",
    "exp = Experiment(trainer_kwargs = trainer_kw, \n",
    "                 model_kwargs = model_kw, \n",
    "                 timesteps = timesteps)\n",
    "exp.run('TD3')"
   ]
  },
  {
   "cell_type": "code",
   "execution_count": null,
   "id": "22ed50b9",
   "metadata": {},
   "outputs": [],
   "source": []
  }
 ],
 "metadata": {
  "kernelspec": {
   "display_name": "Python 3 (ipykernel)",
   "language": "python",
   "name": "python3"
  },
  "language_info": {
   "codemirror_mode": {
    "name": "ipython",
    "version": 3
   },
   "file_extension": ".py",
   "mimetype": "text/x-python",
   "name": "python",
   "nbconvert_exporter": "python",
   "pygments_lexer": "ipython3",
   "version": "3.7.10"
  }
 },
 "nbformat": 4,
 "nbformat_minor": 5
}
