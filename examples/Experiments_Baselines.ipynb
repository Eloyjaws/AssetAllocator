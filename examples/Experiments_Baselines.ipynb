{
 "cells": [
  {
   "cell_type": "code",
   "execution_count": null,
   "id": "90f0053a",
   "metadata": {},
   "outputs": [],
   "source": [
    "from experiment import Experiment"
   ]
  },
  {
   "cell_type": "markdown",
   "id": "fb32b199-7b7f-4a4e-b883-f559ece56353",
   "metadata": {},
   "source": [
    "# Baselines"
   ]
  },
  {
   "cell_type": "code",
   "execution_count": null,
   "id": "1638d28c-8a4f-4a4a-b1d0-4df39f12b03c",
   "metadata": {},
   "outputs": [],
   "source": [
    "trainer_kw = {'print_every': 10, 'test_runs': 1}\n",
    "\n",
    "exp = Experiment(trainer_kwargs = trainer_kw)\n",
    "exp.run('Uniform')"
   ]
  },
  {
   "cell_type": "code",
   "execution_count": null,
   "id": "2ff820f6-e7ba-4fa8-82cf-7588ab39d6a8",
   "metadata": {},
   "outputs": [],
   "source": [
    "trainer_kw = {'print_every': 10, 'test_runs': 1}\n",
    "\n",
    "exp = Experiment(trainer_kwargs = trainer_kw)\n",
    "exp.run('BuyAndHold')"
   ]
  },
  {
   "cell_type": "code",
   "execution_count": null,
   "id": "f1f6fe47-8d16-48bc-885b-bbe4154fcc49",
   "metadata": {},
   "outputs": [],
   "source": [
    "trainer_kw = {'print_every': 10, 'test_runs': 1}\n",
    "\n",
    "exp = Experiment(trainer_kwargs = trainer_kw)\n",
    "exp.run('MPT')"
   ]
  },
  {
   "cell_type": "code",
   "execution_count": null,
   "id": "92744591-f8f4-4e48-a49e-1e7fa51bfc29",
   "metadata": {},
   "outputs": [],
   "source": [
    "trainer_kw = {'print_every': 10, 'test_runs': 1}\n",
    "\n",
    "exp = Experiment(trainer_kwargs = trainer_kw)\n",
    "exp.run('Random')"
   ]
  },
  {
   "cell_type": "code",
   "execution_count": null,
   "id": "1c3d682d-72c7-460c-ae10-d3bef6e06e14",
   "metadata": {},
   "outputs": [],
   "source": []
  },
  {
   "cell_type": "code",
   "execution_count": null,
   "id": "22ed50b9",
   "metadata": {},
   "outputs": [],
   "source": []
  }
 ],
 "metadata": {
  "kernelspec": {
   "display_name": "Python 3 (ipykernel)",
   "language": "python",
   "name": "python3"
  },
  "language_info": {
   "codemirror_mode": {
    "name": "ipython",
    "version": 3
   },
   "file_extension": ".py",
   "mimetype": "text/x-python",
   "name": "python",
   "nbconvert_exporter": "python",
   "pygments_lexer": "ipython3",
   "version": "3.7.10"
  }
 },
 "nbformat": 4,
 "nbformat_minor": 5
}
