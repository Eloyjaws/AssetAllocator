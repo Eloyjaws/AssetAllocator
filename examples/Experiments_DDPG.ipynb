{
 "cells": [
  {
   "cell_type": "code",
   "execution_count": 1,
   "id": "90f0053a",
   "metadata": {},
   "outputs": [],
   "source": [
    "import os\n",
    "from trainer import Trainer\n",
    "from algorithms.DDPG.agent import DDPGAgent"
   ]
  },
  {
   "cell_type": "code",
   "execution_count": 2,
   "id": "f9ab5612",
   "metadata": {},
   "outputs": [
    {
     "name": "stdout",
     "output_type": "stream",
     "text": [
      "Done filling memory\n",
      "Score at timestep 1846: 1.989715315492026.\n",
      "Score at timestep 3679: 1.2956963972294906.\n",
      "Score at timestep 5518: 1.7766217397803645.\n",
      "Score at timestep 7349: 1.0823046112197083.\n",
      "Score at timestep 9184: 1.2983701508219592.\n"
     ]
    },
    {
     "name": "stderr",
     "output_type": "stream",
     "text": [
      "100%|█████████████████████████████████████████████████████████████████████████████████████| 1/1 [00:03<00:00,  3.94s/it]\n"
     ]
    },
    {
     "name": "stdout",
     "output_type": "stream",
     "text": [
      "Done filling memory\n",
      "Score at timestep 1831: 1.032128905374957.\n",
      "Score at timestep 3664: 1.1666027392648082.\n",
      "Score at timestep 5499: 1.226083187386587.\n",
      "Score at timestep 7341: 2.019213508670296.\n",
      "Score at timestep 9180: 1.7352029099566204.\n"
     ]
    },
    {
     "name": "stderr",
     "output_type": "stream",
     "text": [
      "100%|█████████████████████████████████████████████████████████████████████████████████████| 1/1 [00:03<00:00,  3.98s/it]\n"
     ]
    },
    {
     "name": "stdout",
     "output_type": "stream",
     "text": [
      "Done filling memory\n",
      "Score at timestep 1836: 1.3590686192235055.\n",
      "Score at timestep 3679: 1.9733272154192811.\n",
      "Score at timestep 5509: 1.105512230505533.\n",
      "Score at timestep 7351: 1.7710716240985875.\n",
      "Score at timestep 9201: 2.127944107539292.\n"
     ]
    },
    {
     "name": "stderr",
     "output_type": "stream",
     "text": [
      "100%|█████████████████████████████████████████████████████████████████████████████████████| 1/1 [00:03<00:00,  3.94s/it]\n"
     ]
    },
    {
     "name": "stdout",
     "output_type": "stream",
     "text": [
      "Done filling memory\n",
      "Score at timestep 1834: 1.1044089754783244.\n",
      "Score at timestep 3683: 1.7809589854872891.\n",
      "Score at timestep 5513: 1.2478545137095594.\n",
      "Score at timestep 7354: 2.365157629833302.\n",
      "Score at timestep 9204: 2.0451414733118787.\n",
      "Score at timestep 11042: 1.553795315822065.\n",
      "Score at timestep 12883: 2.2262906965568963.\n",
      "Score at timestep 14719: 1.3209169178731606.\n",
      "Score at timestep 16554: 1.207497075868823.\n",
      "Score at timestep 18403: 2.1555935277857294.\n",
      "Score at timestep 20240: 1.4714091020846796.\n",
      "Score at timestep 22080: 1.9616854012845535.\n",
      "Score at timestep 23928: 1.782300136657219.\n",
      "Score at timestep 25767: 1.7759959815058441.\n",
      "Score at timestep 27609: 1.7199315478488248.\n",
      "Score at timestep 29458: 1.7405681725484135.\n",
      "Score at timestep 31292: 0.9705699247696256.\n",
      "Score at timestep 33133: 2.2651331206607965.\n",
      "Score at timestep 34982: 2.044891362000962.\n",
      "Score at timestep 36814: 1.2094604885014482.\n",
      "Score at timestep 38651: 1.5547476364426198.\n",
      "Score at timestep 40485: 1.3308112366833267.\n",
      "Score at timestep 42321: 1.4650487434252228.\n",
      "Score at timestep 44169: 1.9242581803433028.\n",
      "Score at timestep 46019: 2.0823214241397308.\n",
      "Score at timestep 47859: 1.8995702130095455.\n",
      "Score at timestep 49691: 1.0068732204503175.\n",
      "Score at timestep 51534: 1.9497070027315395.\n",
      "Score at timestep 53368: 1.3792227312747931.\n",
      "Score at timestep 55208: 1.9882093256106705.\n",
      "Score at timestep 57042: 1.2069003295048817.\n",
      "Score at timestep 58877: 1.3791873005294002.\n",
      "Score at timestep 60721: 2.035297613173459.\n",
      "Score at timestep 62559: 1.841751429248288.\n",
      "Score at timestep 64391: 1.0436125453772223.\n",
      "Score at timestep 66235: 1.9657329147154805.\n",
      "Score at timestep 68068: 1.1070641080421493.\n",
      "Score at timestep 69905: 1.584634304868692.\n",
      "Score at timestep 71749: 1.8580159947655146.\n",
      "Score at timestep 73587: 1.5248917834772857.\n",
      "Score at timestep 75420: 1.1556729203426932.\n",
      "Score at timestep 77270: 2.131085426202272.\n",
      "Score at timestep 79104: 1.1094188894766837.\n",
      "Score at timestep 80946: 2.1008445968246403.\n",
      "Score at timestep 82782: 1.3477262526842146.\n",
      "Score at timestep 84629: 1.8738715605087333.\n",
      "Score at timestep 86468: 1.5757996810007195.\n",
      "Score at timestep 88305: 1.5948884908166465.\n",
      "Score at timestep 90143: 1.4583546398666811.\n",
      "Score at timestep 91975: 1.2959643337659799.\n",
      "Score at timestep 93806: 0.9836622566425255.\n",
      "Score at timestep 95645: 1.8008382710009163.\n",
      "Score at timestep 97481: 1.365591548800889.\n"
     ]
    },
    {
     "name": "stderr",
     "output_type": "stream",
     "text": [
      "100%|█████████████████████████████████████████████████████████████████████████████████████| 1/1 [00:03<00:00,  3.93s/it]\n"
     ]
    },
    {
     "name": "stdout",
     "output_type": "stream",
     "text": [
      "Done filling memory\n",
      "Score at timestep 1833: 1.0705745655512007.\n",
      "Score at timestep 3670: 1.499791114998376.\n",
      "Score at timestep 5503: 0.9565301929786859.\n",
      "Score at timestep 7344: 2.1737919850558773.\n",
      "Score at timestep 9174: 1.0301563948442907.\n",
      "Score at timestep 11008: 1.2360049975332785.\n",
      "Score at timestep 12841: 1.0857926498773982.\n",
      "Score at timestep 14675: 1.2472315530550266.\n",
      "Score at timestep 16523: 1.75721079396292.\n",
      "Score at timestep 18354: 0.8023246730173544.\n",
      "Score at timestep 20197: 1.9928654636831642.\n",
      "Score at timestep 22034: 1.5362792478860392.\n",
      "Score at timestep 23876: 2.039912228686489.\n",
      "Score at timestep 25712: 1.204502777701522.\n",
      "Score at timestep 27555: 2.0858379048403646.\n",
      "Score at timestep 29396: 2.114780100781172.\n",
      "Score at timestep 31233: 1.5911686687479225.\n",
      "Score at timestep 33069: 1.3579604447799525.\n",
      "Score at timestep 34907: 1.6818698323830035.\n",
      "Score at timestep 36748: 2.1011286289086653.\n",
      "Score at timestep 38586: 1.3957840763571057.\n",
      "Score at timestep 40416: 1.077086580925809.\n",
      "Score at timestep 42258: 2.0487755609841756.\n",
      "Score at timestep 44108: 2.01996211724694.\n",
      "Score at timestep 45951: 2.1636461711095376.\n",
      "Score at timestep 47793: 2.014762525088335.\n",
      "Score at timestep 49631: 1.6788675492301763.\n",
      "Score at timestep 51475: 1.8058819916932103.\n",
      "Score at timestep 53322: 1.7339905202422632.\n",
      "Score at timestep 55154: 1.0078598783411203.\n",
      "Score at timestep 56997: 2.062114969358534.\n",
      "Score at timestep 58841: 2.1410678260000675.\n",
      "Score at timestep 60691: 2.101032314401401.\n",
      "Score at timestep 62536: 1.9020291896422417.\n",
      "Score at timestep 64379: 2.0494395822997182.\n",
      "Score at timestep 66221: 1.9454872027750834.\n",
      "Score at timestep 68054: 1.1272196582990068.\n",
      "Score at timestep 69892: 1.5180497306905092.\n",
      "Score at timestep 71736: 2.1296842143620087.\n",
      "Score at timestep 73583: 1.850572187642658.\n",
      "Score at timestep 75418: 1.5614895257810915.\n",
      "Score at timestep 77252: 1.2234013242665094.\n",
      "Score at timestep 79099: 2.0328579645634424.\n",
      "Score at timestep 80932: 1.0437915959163986.\n",
      "Score at timestep 82770: 1.6252609880465083.\n",
      "Score at timestep 84615: 1.871297771413617.\n",
      "Score at timestep 86458: 2.107041779486294.\n",
      "Score at timestep 88303: 2.057982882003099.\n",
      "Score at timestep 90148: 1.88811818297043.\n",
      "Score at timestep 91991: 2.0560775510607923.\n",
      "Score at timestep 93835: 1.923879464304109.\n",
      "Score at timestep 95666: 0.8250223598912219.\n",
      "Score at timestep 97503: 1.5219179471213435.\n"
     ]
    },
    {
     "name": "stderr",
     "output_type": "stream",
     "text": [
      "100%|█████████████████████████████████████████████████████████████████████████████████████| 1/1 [00:03<00:00,  3.85s/it]\n"
     ]
    },
    {
     "name": "stdout",
     "output_type": "stream",
     "text": [
      "Done filling memory\n",
      "Score at timestep 1834: 1.1823361846805176.\n",
      "Score at timestep 3684: 1.9733296774542706.\n",
      "Score at timestep 5532: 2.098507437877431.\n",
      "Score at timestep 7365: 0.9730763505938415.\n",
      "Score at timestep 9204: 1.7672840330595398.\n",
      "Score at timestep 11034: 0.9196341753565216.\n",
      "Score at timestep 12866: 1.2118945183297327.\n",
      "Score at timestep 14697: 0.9606057117977317.\n",
      "Score at timestep 16532: 1.5541381707259376.\n",
      "Score at timestep 18379: 1.819929891923292.\n",
      "Score at timestep 20228: 1.6851139221453408.\n",
      "Score at timestep 22066: 1.3844324080969637.\n",
      "Score at timestep 23896: 1.1644407224055542.\n",
      "Score at timestep 25733: 1.6295844652590343.\n",
      "Score at timestep 27566: 1.0584216578932566.\n",
      "Score at timestep 29408: 1.9442818139577098.\n",
      "Score at timestep 31244: 1.3185798317163338.\n",
      "Score at timestep 33074: 0.9118863036355412.\n",
      "Score at timestep 34915: 2.2162544878231314.\n",
      "Score at timestep 36759: 2.27443696826757.\n",
      "Score at timestep 38590: 1.3020579801348617.\n",
      "Score at timestep 40434: 1.8559337177348125.\n",
      "Score at timestep 42280: 1.901136029376948.\n",
      "Score at timestep 44126: 2.17511448844058.\n",
      "Score at timestep 45957: 1.2489268987983324.\n",
      "Score at timestep 47796: 1.7962483934694866.\n",
      "Score at timestep 49629: 1.040378684000706.\n",
      "Score at timestep 51466: 1.3904691547209496.\n",
      "Score at timestep 53296: 1.172601400035116.\n",
      "Score at timestep 55127: 1.1214655727004255.\n",
      "Score at timestep 56961: 1.30186863801773.\n",
      "Score at timestep 58792: 0.9703041230029725.\n",
      "Score at timestep 60637: 2.0987426109721667.\n",
      "Score at timestep 62483: 2.016910944813955.\n",
      "Score at timestep 64326: 2.106201356424798.\n",
      "Score at timestep 66171: 2.1321672087087076.\n",
      "Score at timestep 68002: 1.157878605950861.\n",
      "Score at timestep 69838: 1.2727828280963436.\n",
      "Score at timestep 71686: 2.0971895320491982.\n",
      "Score at timestep 73535: 1.74779466634753.\n",
      "Score at timestep 75373: 1.8743551972621533.\n",
      "Score at timestep 77209: 1.4067108396132204.\n",
      "Score at timestep 79056: 2.0333603830006117.\n",
      "Score at timestep 80895: 1.6777227985027818.\n",
      "Score at timestep 82731: 1.4522570246425086.\n",
      "Score at timestep 84577: 1.9187344158198603.\n",
      "Score at timestep 86419: 2.048545352987421.\n",
      "Score at timestep 88251: 1.1609233905871557.\n",
      "Score at timestep 90097: 1.8154735242001725.\n",
      "Score at timestep 91930: 1.185043706526731.\n",
      "Score at timestep 93762: 1.092510361456118.\n",
      "Score at timestep 95608: 1.9763753375137063.\n",
      "Score at timestep 97442: 1.0927200048199048.\n"
     ]
    },
    {
     "name": "stderr",
     "output_type": "stream",
     "text": [
      "100%|█████████████████████████████████████████████████████████████████████████████████████| 1/1 [00:03<00:00,  3.92s/it]\n"
     ]
    }
   ],
   "source": [
    "model_name = 'DDPG'\n",
    "dataset = 'DOW30'\n",
    "reward = False\n",
    "print_every = 1\n",
    "#timestep = 10_000\n",
    "#trading_cost = 0.0\n",
    "\n",
    "timesteps = [10_000, 100_000]\n",
    "trading_costs = [0, 0.001, 0.01]\n",
    "\n",
    "for timestep in timesteps:\n",
    "    for trading_cost in trading_costs:\n",
    "        if reward:\n",
    "            strng = 'LogRets'\n",
    "        else:\n",
    "            strng = 'ShRt'\n",
    "\n",
    "        path = f'Reward-{strng}_timestep-{timestep}_trading_cost-{trading_cost}'\n",
    "        isExist = os.path.exists(path)\n",
    "        if not isExist:\n",
    "            os.makedirs(path) \n",
    "\n",
    "        name = f'{path}/{model_name}_{path}'\n",
    "\n",
    "        trainer = Trainer('../data/DOW30.csv', \n",
    "                         experiment_name = name, \n",
    "                         timesteps = timestep, \n",
    "                         print_every = print_every,\n",
    "                         episode_length = None,\n",
    "                         returns = reward,\n",
    "                         trading_cost_ratio = trading_cost ,\n",
    "                         lookback_period = 64,\n",
    "                         initial_investment = 1_000_000,\n",
    "                         random_start_range = 20,\n",
    "                         dsr_constant = 1e-4,\n",
    "                         add_softmax = False)\n",
    "\n",
    "        env = trainer.get_train_env()\n",
    "        model = DDPGAgent(env)\n",
    "        returns = trainer.run(model)"
   ]
  },
  {
   "cell_type": "code",
   "execution_count": null,
   "id": "1c3d682d-72c7-460c-ae10-d3bef6e06e14",
   "metadata": {},
   "outputs": [],
   "source": []
  },
  {
   "cell_type": "code",
   "execution_count": null,
   "id": "22ed50b9",
   "metadata": {},
   "outputs": [],
   "source": []
  }
 ],
 "metadata": {
  "kernelspec": {
   "display_name": "Python 3 (ipykernel)",
   "language": "python",
   "name": "python3"
  },
  "language_info": {
   "codemirror_mode": {
    "name": "ipython",
    "version": 3
   },
   "file_extension": ".py",
   "mimetype": "text/x-python",
   "name": "python",
   "nbconvert_exporter": "python",
   "pygments_lexer": "ipython3",
   "version": "3.9.5"
  }
 },
 "nbformat": 4,
 "nbformat_minor": 5
}
