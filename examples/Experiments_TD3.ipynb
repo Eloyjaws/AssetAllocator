{
 "cells": [
  {
   "cell_type": "code",
   "execution_count": 1,
   "id": "34112059",
   "metadata": {},
   "outputs": [],
   "source": [
    "import os\n",
    "from trainer import Trainer\n",
    "from algorithms.TD3.agent import TD3Agent"
   ]
  },
  {
   "cell_type": "code",
   "execution_count": 2,
   "id": "7734b19d-e225-4cfc-8073-f31996a566f6",
   "metadata": {},
   "outputs": [
    {
     "name": "stdout",
     "output_type": "stream",
     "text": [
      "Startup memory filled!\n",
      "Score at timestep 1833: 1.1339444270594363.\n",
      "Score at timestep 3671: 1.6027160743003344.\n",
      "Score at timestep 5519: 1.9669459322308551.\n",
      "Score at timestep 7362: 2.295648554392278.\n",
      "Score at timestep 9209: 2.230091743715112.\n"
     ]
    },
    {
     "name": "stderr",
     "output_type": "stream",
     "text": [
      "100%|██████████████████████████████████████████████████████████████████████████████████████████████████████████████████████████████████████████████████████████████████████████████████████████████████████████| 1/1 [00:05<00:00,  5.05s/it]\n"
     ]
    },
    {
     "name": "stdout",
     "output_type": "stream",
     "text": [
      "Startup memory filled!\n",
      "Score at timestep 1840: 2.053316805077102.\n",
      "Score at timestep 3678: 1.5495263507103219.\n",
      "Score at timestep 5510: 1.1891296546348316.\n",
      "Score at timestep 7351: 2.211180183070442.\n",
      "Score at timestep 9189: 1.5528179835237268.\n"
     ]
    },
    {
     "name": "stderr",
     "output_type": "stream",
     "text": [
      "100%|██████████████████████████████████████████████████████████████████████████████████████████████████████████████████████████████████████████████████████████████████████████████████████████████████████████| 1/1 [00:04<00:00,  4.04s/it]\n"
     ]
    },
    {
     "name": "stdout",
     "output_type": "stream",
     "text": [
      "Startup memory filled!\n",
      "Score at timestep 1830: 1.1745331374392824.\n",
      "Score at timestep 3660: 1.2513708165136743.\n",
      "Score at timestep 5502: 1.8662944632378282.\n",
      "Score at timestep 7345: 2.036070035090294.\n",
      "Score at timestep 9180: 1.2317388578121675.\n"
     ]
    },
    {
     "name": "stderr",
     "output_type": "stream",
     "text": [
      "100%|██████████████████████████████████████████████████████████████████████████████████████████████████████████████████████████████████████████████████████████████████████████████████████████████████████████| 1/1 [00:03<00:00,  4.00s/it]\n"
     ]
    },
    {
     "name": "stdout",
     "output_type": "stream",
     "text": [
      "Startup memory filled!\n",
      "Score at timestep 1850: 1.95688486754391.\n",
      "Score at timestep 3687: 1.7909336615142815.\n",
      "Score at timestep 5530: 2.245969756260277.\n",
      "Score at timestep 7368: 1.954981284698971.\n",
      "Score at timestep 9217: 2.2160010140076607.\n",
      "Score at timestep 11058: 2.434914767075897.\n",
      "Score at timestep 12905: 2.333538172465789.\n",
      "Score at timestep 14742: 1.869085665238767.\n",
      "Score at timestep 16582: 2.3451928287129835.\n",
      "Score at timestep 18417: 1.4657951632355521.\n",
      "Score at timestep 20250: 1.378042722985148.\n",
      "Score at timestep 22095: 2.340264408257754.\n",
      "Score at timestep 23945: 2.250679805469318.\n",
      "Score at timestep 25794: 2.0866788127281626.\n",
      "Score at timestep 27627: 1.4090373760704704.\n",
      "Score at timestep 29457: 1.4577642357134755.\n",
      "Score at timestep 31295: 1.8557278587453074.\n",
      "Score at timestep 33142: 2.2657468171993203.\n",
      "Score at timestep 34982: 2.3109656628507413.\n",
      "Score at timestep 36828: 2.2098319098521864.\n",
      "Score at timestep 38658: 1.4017432975244284.\n",
      "Score at timestep 40499: 2.4679114417110832.\n",
      "Score at timestep 42344: 2.320068094847088.\n",
      "Score at timestep 44179: 1.509083214685195.\n",
      "Score at timestep 46017: 1.8882051417505819.\n",
      "Score at timestep 47858: 2.3662860903187726.\n",
      "Score at timestep 49706: 2.2016036203324356.\n",
      "Score at timestep 51556: 2.3673800738329667.\n",
      "Score at timestep 53402: 2.265511195806283.\n",
      "Score at timestep 55232: 1.480455772881792.\n",
      "Score at timestep 57073: 2.414368870720163.\n",
      "Score at timestep 58923: 2.4405198749427433.\n",
      "Score at timestep 60767: 2.407294655551619.\n",
      "Score at timestep 62604: 1.9068755630656318.\n",
      "Score at timestep 64440: 1.796120392115667.\n",
      "Score at timestep 66278: 1.9370307612166946.\n",
      "Score at timestep 68128: 2.399185420990611.\n",
      "Score at timestep 69974: 2.173951311343645.\n",
      "Score at timestep 71809: 1.615262264298903.\n",
      "Score at timestep 73657: 2.20503112439595.\n",
      "Score at timestep 75494: 1.8089807250803203.\n",
      "Score at timestep 77326: 1.4840747922141815.\n",
      "Score at timestep 79163: 1.9450502823664808.\n",
      "Score at timestep 81003: 2.3624404979830325.\n",
      "Score at timestep 82851: 2.330677205530926.\n",
      "Score at timestep 84682: 1.4817086240038455.\n",
      "Score at timestep 86532: 2.4222695290692555.\n",
      "Score at timestep 88381: 2.2279859122849257.\n",
      "Score at timestep 90212: 1.4372004272128522.\n",
      "Score at timestep 92053: 2.5282019164476677.\n",
      "Score at timestep 93883: 1.3627034811780478.\n",
      "Score at timestep 95721: 1.7979975745922216.\n",
      "Score at timestep 97557: 1.6317036812674814.\n"
     ]
    },
    {
     "name": "stderr",
     "output_type": "stream",
     "text": [
      "100%|██████████████████████████████████████████████████████████████████████████████████████████████████████████████████████████████████████████████████████████████████████████████████████████████████████████| 1/1 [00:04<00:00,  4.60s/it]\n"
     ]
    },
    {
     "name": "stdout",
     "output_type": "stream",
     "text": [
      "Startup memory filled!\n",
      "Score at timestep 1836: 1.325082101634629.\n",
      "Score at timestep 3683: 2.2095893058725435.\n",
      "Score at timestep 5519: 1.727885523769182.\n",
      "Score at timestep 7363: 2.162079526331995.\n",
      "Score at timestep 9194: 1.169318308125587.\n",
      "Score at timestep 11042: 1.9604479349444424.\n",
      "Score at timestep 12884: 2.018348891465006.\n",
      "Score at timestep 14732: 1.9988839792307687.\n",
      "Score at timestep 16573: 2.132572389493915.\n",
      "Score at timestep 18418: 2.1499401083833916.\n",
      "Score at timestep 20264: 2.0380467391618615.\n",
      "Score at timestep 22098: 1.24323032787688.\n",
      "Score at timestep 23928: 1.2148945042883477.\n",
      "Score at timestep 25764: 1.4478694035882445.\n",
      "Score at timestep 27604: 2.064729010802844.\n",
      "Score at timestep 29439: 1.286304288459193.\n",
      "Score at timestep 31277: 1.5999787665029814.\n",
      "Score at timestep 33109: 1.1045319017807922.\n",
      "Score at timestep 34948: 1.7571417519418149.\n",
      "Score at timestep 36790: 1.999193295464086.\n",
      "Score at timestep 38635: 2.163949792110387.\n",
      "Score at timestep 40479: 2.161175738719164.\n",
      "Score at timestep 42327: 2.000260301540331.\n",
      "Score at timestep 44175: 2.0164158320311016.\n",
      "Score at timestep 46013: 1.6387930562770958.\n",
      "Score at timestep 47852: 1.835735990708353.\n",
      "Score at timestep 49688: 1.4432555253372443.\n",
      "Score at timestep 51523: 1.3689643571632986.\n",
      "Score at timestep 53373: 2.1247290569782207.\n",
      "Score at timestep 55211: 1.6328237018303224.\n",
      "Score at timestep 57049: 1.6206036729911972.\n",
      "Score at timestep 58888: 1.7642599853808147.\n",
      "Score at timestep 60737: 1.94626412921263.\n",
      "Score at timestep 62580: 2.196032629408759.\n",
      "Score at timestep 64422: 2.044890685952879.\n",
      "Score at timestep 66266: 2.15375718090801.\n",
      "Score at timestep 68105: 1.804625774634031.\n",
      "Score at timestep 69952: 2.1058369488627546.\n",
      "Score at timestep 71790: 1.641048350395592.\n",
      "Score at timestep 73635: 2.1489120010771714.\n",
      "Score at timestep 75472: 1.6492176735688058.\n",
      "Score at timestep 77310: 1.5514927006303667.\n",
      "Score at timestep 79140: 1.1980984309595621.\n",
      "Score at timestep 80976: 1.4300128964041559.\n",
      "Score at timestep 82810: 1.2075253620527533.\n",
      "Score at timestep 84644: 1.2093384865114076.\n",
      "Score at timestep 86483: 1.6949508885715945.\n",
      "Score at timestep 88333: 2.1363907460311533.\n",
      "Score at timestep 90165: 1.0942660585626818.\n",
      "Score at timestep 92004: 1.7982908383389409.\n",
      "Score at timestep 93838: 1.1832611413638425.\n",
      "Score at timestep 95670: 1.0736984490676258.\n",
      "Score at timestep 97506: 1.529314569440532.\n"
     ]
    },
    {
     "name": "stderr",
     "output_type": "stream",
     "text": [
      "100%|██████████████████████████████████████████████████████████████████████████████████████████████████████████████████████████████████████████████████████████████████████████████████████████████████████████| 1/1 [00:03<00:00,  3.87s/it]\n"
     ]
    },
    {
     "name": "stdout",
     "output_type": "stream",
     "text": [
      "Startup memory filled!\n",
      "Score at timestep 1841: 2.1910789656151946.\n",
      "Score at timestep 3686: 2.1013629684057604.\n",
      "Score at timestep 5520: 1.1981981945522082.\n",
      "Score at timestep 7357: 1.5881542369992163.\n",
      "Score at timestep 9188: 1.1921439464959622.\n",
      "Score at timestep 11019: 1.1303903219971503.\n",
      "Score at timestep 12862: 2.126657478922223.\n",
      "Score at timestep 14694: 1.0062853945323504.\n",
      "Score at timestep 16540: 1.8027430518209173.\n",
      "Score at timestep 18377: 1.3737801155088354.\n",
      "Score at timestep 20209: 0.9068628186200516.\n",
      "Score at timestep 22047: 1.651953918229525.\n",
      "Score at timestep 23878: 1.1263228905057907.\n",
      "Score at timestep 25727: 1.8246527377344315.\n",
      "Score at timestep 27572: 2.1865483190998956.\n",
      "Score at timestep 29411: 1.7991295543011503.\n",
      "Score at timestep 31250: 1.8019922021507588.\n",
      "Score at timestep 33087: 1.620523817353207.\n",
      "Score at timestep 34918: 1.1062734686195679.\n",
      "Score at timestep 36762: 2.177982152384436.\n",
      "Score at timestep 38605: 2.142635833974668.\n",
      "Score at timestep 40447: 2.0693657838931325.\n",
      "Score at timestep 42281: 1.1625525934857455.\n",
      "Score at timestep 44113: 1.0486236287678887.\n",
      "Score at timestep 45957: 2.123442049469958.\n",
      "Score at timestep 47800: 2.212489199248746.\n",
      "Score at timestep 49650: 2.242153317476028.\n",
      "Score at timestep 51483: 1.0856989883894939.\n",
      "Score at timestep 53330: 2.200258180912483.\n",
      "Score at timestep 55160: 1.1601545664141468.\n",
      "Score at timestep 57001: 2.3146442287809683.\n",
      "Score at timestep 58847: 2.0744158921626.\n",
      "Score at timestep 60679: 1.2020152251984093.\n",
      "Score at timestep 62516: 1.5964863959571693.\n",
      "Score at timestep 64362: 2.06372031328277.\n",
      "Score at timestep 66205: 2.2454073128282532.\n",
      "Score at timestep 68037: 1.0824593288632314.\n",
      "Score at timestep 69871: 1.2313560550445086.\n",
      "Score at timestep 71710: 1.8123120775651231.\n",
      "Score at timestep 73546: 1.3934824696888108.\n",
      "Score at timestep 75386: 2.1565968145831196.\n",
      "Score at timestep 77216: 1.1032156737429901.\n",
      "Score at timestep 79059: 2.1977814116572203.\n",
      "Score at timestep 80901: 2.06261666792235.\n",
      "Score at timestep 82751: 2.122283903980335.\n",
      "Score at timestep 84600: 2.063514534259585.\n",
      "Score at timestep 86441: 2.2779996763576675.\n",
      "Score at timestep 88275: 1.2410159300556027.\n",
      "Score at timestep 90119: 2.176581238401921.\n",
      "Score at timestep 91965: 2.0364821154061836.\n",
      "Score at timestep 93800: 1.223364880826242.\n",
      "Score at timestep 95643: 2.2383321116513053.\n",
      "Score at timestep 97485: 2.106715336588075.\n"
     ]
    },
    {
     "name": "stderr",
     "output_type": "stream",
     "text": [
      "100%|██████████████████████████████████████████████████████████████████████████████████████████████████████████████████████████████████████████████████████████████████████████████████████████████████████████| 1/1 [00:01<00:00,  1.69s/it]\n"
     ]
    }
   ],
   "source": [
    "model_name = 'TD3'\n",
    "dataset = 'DOW30'\n",
    "reward = False\n",
    "print_every = 1\n",
    "#timestep = 10_000\n",
    "#trading_cost = 0.0\n",
    "\n",
    "timesteps = [10_000, 100_000]\n",
    "trading_costs = [0, 0.001, 0.01]\n",
    "\n",
    "for timestep in timesteps:\n",
    "    for trading_cost in trading_costs:\n",
    "        if reward:\n",
    "            strng = 'LogRets'\n",
    "        else:\n",
    "            strng = 'ShRt'\n",
    "\n",
    "        path = f'Reward-{strng}_timestep-{timestep}_trading_cost-{trading_cost}'\n",
    "        isExist = os.path.exists(path)\n",
    "        if not isExist:\n",
    "            os.makedirs(path) \n",
    "\n",
    "        name = f'{path}/{model_name}_{path}'\n",
    "\n",
    "        trainer = Trainer('../data/DOW30.csv', \n",
    "                         experiment_name = name, \n",
    "                         timesteps = timestep, \n",
    "                         print_every = print_every,\n",
    "                         episode_length = None,\n",
    "                         returns = reward,\n",
    "                         trading_cost_ratio = trading_cost ,\n",
    "                         lookback_period = 64,\n",
    "                         initial_investment = 1_000_000,\n",
    "                         random_start_range = 20,\n",
    "                         dsr_constant = 1e-4,\n",
    "                         add_softmax = False)\n",
    "\n",
    "        env = trainer.get_train_env()\n",
    "        model = TD3Agent(env)\n",
    "        returns = trainer.run(model)"
   ]
  },
  {
   "cell_type": "code",
   "execution_count": null,
   "id": "b5628af6",
   "metadata": {},
   "outputs": [],
   "source": []
  },
  {
   "cell_type": "code",
   "execution_count": null,
   "id": "e72ddba8",
   "metadata": {},
   "outputs": [],
   "source": []
  },
  {
   "cell_type": "code",
   "execution_count": null,
   "id": "9e6e5130",
   "metadata": {},
   "outputs": [],
   "source": []
  },
  {
   "cell_type": "code",
   "execution_count": null,
   "id": "4f2a5eb4",
   "metadata": {},
   "outputs": [],
   "source": []
  }
 ],
 "metadata": {
  "kernelspec": {
   "display_name": "Python 3 (ipykernel)",
   "language": "python",
   "name": "python3"
  },
  "language_info": {
   "codemirror_mode": {
    "name": "ipython",
    "version": 3
   },
   "file_extension": ".py",
   "mimetype": "text/x-python",
   "name": "python",
   "nbconvert_exporter": "python",
   "pygments_lexer": "ipython3",
   "version": "3.9.5"
  }
 },
 "nbformat": 4,
 "nbformat_minor": 5
}
