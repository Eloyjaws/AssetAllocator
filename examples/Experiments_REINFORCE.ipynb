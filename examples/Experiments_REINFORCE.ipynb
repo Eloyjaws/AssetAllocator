{
 "cells": [
  {
   "cell_type": "code",
   "execution_count": 1,
   "id": "71c83644-30fb-47f2-b31d-0da101a6d08e",
   "metadata": {},
   "outputs": [],
   "source": [
    "import os\n",
    "from trainer import Trainer\n",
    "from algorithms.REINFORCE.agent import REINFORCEAgent"
   ]
  },
  {
   "cell_type": "code",
   "execution_count": 2,
   "id": "b59ff2cf-372c-4c53-b8cf-ff86f0e74c3b",
   "metadata": {},
   "outputs": [
    {
     "name": "stdout",
     "output_type": "stream",
     "text": [
      "Score at timestep 1838: 1.6169565392426295.\n",
      "Score at timestep 3673: 1.2801469390297786.\n",
      "Score at timestep 5523: 2.0171605847879728.\n",
      "Score at timestep 7370: 1.942560816995945.\n",
      "Score at timestep 9217: 1.9510566021447386.\n"
     ]
    },
    {
     "name": "stderr",
     "output_type": "stream",
     "text": [
      "100%|██████████████████████████████████████████████████████████████████████████████████████████████████████████████████████████████████████████████████████████████████████████████████████████████████████████| 1/1 [00:06<00:00,  6.48s/it]\n"
     ]
    },
    {
     "name": "stdout",
     "output_type": "stream",
     "text": [
      "Score at timestep 1838: 1.6169404768745774.\n",
      "Score at timestep 3673: 1.2800349178809496.\n",
      "Score at timestep 5523: 2.0170276349695757.\n",
      "Score at timestep 7370: 1.9425447269443197.\n",
      "Score at timestep 9217: 1.951041521555167.\n"
     ]
    },
    {
     "name": "stderr",
     "output_type": "stream",
     "text": [
      "100%|██████████████████████████████████████████████████████████████████████████████████████████████████████████████████████████████████████████████████████████████████████████████████████████████████████████| 1/1 [00:06<00:00,  6.41s/it]\n"
     ]
    },
    {
     "name": "stdout",
     "output_type": "stream",
     "text": [
      "Score at timestep 1838: 1.6167963591068286.\n",
      "Score at timestep 3673: 1.279035989917642.\n",
      "Score at timestep 5523: 2.0158400627196214.\n",
      "Score at timestep 7370: 1.9424013937279425.\n",
      "Score at timestep 9217: 1.9509074003774236.\n"
     ]
    },
    {
     "name": "stderr",
     "output_type": "stream",
     "text": [
      "100%|██████████████████████████████████████████████████████████████████████████████████████████████████████████████████████████████████████████████████████████████████████████████████████████████████████████| 1/1 [00:06<00:00,  6.49s/it]\n"
     ]
    },
    {
     "name": "stdout",
     "output_type": "stream",
     "text": [
      "Score at timestep 1838: 1.6169565392426295.\n",
      "Score at timestep 3673: 1.2801469390297786.\n",
      "Score at timestep 5523: 2.0171605847879728.\n",
      "Score at timestep 7370: 1.942560816995945.\n",
      "Score at timestep 9217: 1.9510566021447386.\n",
      "Score at timestep 11060: 2.0621380641279563.\n",
      "Score at timestep 12901: 2.1914157839546458.\n",
      "Score at timestep 14732: 1.1074981294169715.\n",
      "Score at timestep 16564: 1.0951071825787182.\n",
      "Score at timestep 18410: 1.8975907966998617.\n",
      "Score at timestep 20254: 2.0323395227628205.\n",
      "Score at timestep 22092: 1.5934479725195734.\n",
      "Score at timestep 23941: 1.906354240387839.\n",
      "Score at timestep 25785: 2.0544345689338943.\n",
      "Score at timestep 27628: 2.0739797203495884.\n",
      "Score at timestep 29464: 1.3659335601805622.\n",
      "Score at timestep 31297: 1.0961582873776903.\n",
      "Score at timestep 33142: 2.0660640080418036.\n",
      "Score at timestep 34979: 1.5625351360279849.\n",
      "Score at timestep 36821: 1.9946672772120162.\n",
      "Score at timestep 38662: 2.167365022201279.\n",
      "Score at timestep 40492: 1.1785403982694929.\n",
      "Score at timestep 42323: 1.1111831519394204.\n",
      "Score at timestep 44157: 1.153623002317795.\n",
      "Score at timestep 45988: 1.0989698959484102.\n",
      "Score at timestep 47833: 2.04562108285916.\n",
      "Score at timestep 49668: 1.257887122535239.\n",
      "Score at timestep 51503: 1.236511866957774.\n",
      "Score at timestep 53353: 2.022791078832114.\n",
      "Score at timestep 55185: 1.1008196866308186.\n",
      "Score at timestep 57032: 1.9536965096800343.\n",
      "Score at timestep 58865: 1.1061273916818306.\n",
      "Score at timestep 60696: 1.1050616455758202.\n",
      "Score at timestep 62527: 1.0941614239517565.\n",
      "Score at timestep 64358: 1.1023853276062363.\n",
      "Score at timestep 66194: 1.3785088807312387.\n",
      "Score at timestep 68037: 2.056477516370036.\n",
      "Score at timestep 69887: 2.0340366282370463.\n",
      "Score at timestep 71736: 1.8969167534788585.\n",
      "Score at timestep 73577: 2.172345352493278.\n",
      "Score at timestep 75427: 2.0498773448319145.\n",
      "Score at timestep 77267: 2.0531713068225934.\n",
      "Score at timestep 79097: 1.1855858326327589.\n",
      "Score at timestep 80944: 1.9615962793490058.\n",
      "Score at timestep 82783: 1.70133211011192.\n",
      "Score at timestep 84615: 1.0833039259341752.\n",
      "Score at timestep 86463: 1.892843449224077.\n",
      "Score at timestep 88313: 2.022136156968517.\n",
      "Score at timestep 90163: 2.0261808380983664.\n",
      "Score at timestep 92009: 1.9485687913633565.\n",
      "Score at timestep 93854: 2.0623307287545374.\n",
      "Score at timestep 95698: 2.0391674439574206.\n",
      "Score at timestep 97540: 1.991444250022024.\n"
     ]
    },
    {
     "name": "stderr",
     "output_type": "stream",
     "text": [
      "100%|██████████████████████████████████████████████████████████████████████████████████████████████████████████████████████████████████████████████████████████████████████████████████████████████████████████| 1/1 [00:06<00:00,  6.28s/it]\n"
     ]
    },
    {
     "name": "stdout",
     "output_type": "stream",
     "text": [
      "Score at timestep 1838: 1.6169404768745774.\n",
      "Score at timestep 3673: 1.2800349178809496.\n",
      "Score at timestep 5523: 2.0170276349695757.\n",
      "Score at timestep 7370: 1.9425447269443197.\n",
      "Score at timestep 9217: 1.951041521555167.\n",
      "Score at timestep 11060: 2.0620714009391032.\n",
      "Score at timestep 12901: 2.191321783971906.\n",
      "Score at timestep 14732: 1.1075332247593044.\n",
      "Score at timestep 16564: 1.0950953070734488.\n",
      "Score at timestep 18410: 1.8977002317405023.\n",
      "Score at timestep 20254: 2.0323689887648273.\n",
      "Score at timestep 22092: 1.5934388528121817.\n",
      "Score at timestep 23941: 1.9063654183821994.\n",
      "Score at timestep 25785: 2.054433779593252.\n",
      "Score at timestep 27628: 2.073921899511117.\n",
      "Score at timestep 29464: 1.3658152642005035.\n",
      "Score at timestep 31297: 1.0961483859309782.\n",
      "Score at timestep 33142: 2.0660515660711476.\n",
      "Score at timestep 34979: 1.562368366054404.\n",
      "Score at timestep 36821: 1.9948836768890044.\n",
      "Score at timestep 38662: 2.167269545056243.\n",
      "Score at timestep 40492: 1.17867592272764.\n",
      "Score at timestep 42323: 1.1112289100872421.\n",
      "Score at timestep 44157: 1.1535518552970188.\n",
      "Score at timestep 45988: 1.0990242003101733.\n",
      "Score at timestep 47833: 2.0456178660034925.\n",
      "Score at timestep 49668: 1.257767341744346.\n",
      "Score at timestep 51503: 1.2364044977578124.\n",
      "Score at timestep 53353: 2.022689561702416.\n",
      "Score at timestep 55185: 1.1008081331374333.\n",
      "Score at timestep 57032: 1.9536853658896665.\n",
      "Score at timestep 58865: 1.1061335212851842.\n",
      "Score at timestep 60696: 1.1051073115269379.\n",
      "Score at timestep 62527: 1.0942106415205988.\n",
      "Score at timestep 64358: 1.1024263341750749.\n",
      "Score at timestep 66194: 1.3783893829853164.\n",
      "Score at timestep 68037: 2.0564157210495906.\n",
      "Score at timestep 69887: 2.0339227888920886.\n",
      "Score at timestep 71736: 1.8969313503289162.\n",
      "Score at timestep 73577: 2.17223871938194.\n",
      "Score at timestep 75427: 2.049776846579723.\n",
      "Score at timestep 77267: 2.052867495990217.\n",
      "Score at timestep 79097: 1.1857177754633699.\n",
      "Score at timestep 80944: 1.9615667017694594.\n",
      "Score at timestep 82783: 1.7012251317373182.\n",
      "Score at timestep 84615: 1.0833145729778477.\n",
      "Score at timestep 86463: 1.8929155865080998.\n",
      "Score at timestep 88313: 2.0220166478883717.\n",
      "Score at timestep 90163: 2.0260738955715185.\n",
      "Score at timestep 92009: 1.9486913175041456.\n",
      "Score at timestep 93854: 2.062324714251232.\n",
      "Score at timestep 95698: 2.039187052559375.\n",
      "Score at timestep 97540: 1.9916494835549818.\n"
     ]
    },
    {
     "name": "stderr",
     "output_type": "stream",
     "text": [
      "100%|██████████████████████████████████████████████████████████████████████████████████████████████████████████████████████████████████████████████████████████████████████████████████████████████████████████| 1/1 [00:06<00:00,  6.32s/it]\n"
     ]
    },
    {
     "name": "stdout",
     "output_type": "stream",
     "text": [
      "Score at timestep 1838: 1.6167963591068286.\n",
      "Score at timestep 3673: 1.279035989917642.\n",
      "Score at timestep 5523: 2.0158400627196214.\n",
      "Score at timestep 7370: 1.9424013937279425.\n",
      "Score at timestep 9217: 1.9509074003774236.\n",
      "Score at timestep 11060: 2.061477953068917.\n",
      "Score at timestep 12901: 2.190485053854205.\n",
      "Score at timestep 14732: 1.1078449399332635.\n",
      "Score at timestep 16564: 1.0949899904524472.\n",
      "Score at timestep 18410: 1.8986764399948914.\n",
      "Score at timestep 20254: 2.0326323552444556.\n",
      "Score at timestep 22092: 1.5933590893883982.\n",
      "Score at timestep 23941: 1.9064640317260098.\n",
      "Score at timestep 25785: 2.0544211276483155.\n",
      "Score at timestep 27628: 2.073414257643645.\n",
      "Score at timestep 29464: 1.3647527207575978.\n",
      "Score at timestep 31297: 1.0960716554086685.\n",
      "Score at timestep 33142: 2.0659411083376233.\n",
      "Score at timestep 34979: 1.560887190029396.\n",
      "Score at timestep 36821: 1.9968249946095107.\n",
      "Score at timestep 38662: 2.1664095076088.\n",
      "Score at timestep 40492: 1.1798836100839116.\n",
      "Score at timestep 42323: 1.1116073149388765.\n",
      "Score at timestep 44157: 1.1529004409991872.\n",
      "Score at timestep 45988: 1.0995191980526935.\n",
      "Score at timestep 47833: 2.045582843559462.\n",
      "Score at timestep 49668: 1.2567003467157527.\n",
      "Score at timestep 51503: 1.2354059484977327.\n",
      "Score at timestep 53353: 2.021786110472075.\n",
      "Score at timestep 55185: 1.1006909530708686.\n",
      "Score at timestep 57032: 1.9535415076041476.\n",
      "Score at timestep 58865: 1.1061228614775316.\n",
      "Score at timestep 60696: 1.1055393550141563.\n",
      "Score at timestep 62527: 1.0946301332308535.\n",
      "Score at timestep 64358: 1.1027388039085608.\n",
      "Score at timestep 66194: 1.377356929663233.\n",
      "Score at timestep 68037: 2.0558631132342042.\n",
      "Score at timestep 69887: 2.0329042571602707.\n",
      "Score at timestep 71736: 1.8970833563331568.\n",
      "Score at timestep 73577: 2.171314007619873.\n",
      "Score at timestep 75427: 2.048923282591864.\n",
      "Score at timestep 77267: 2.050143022387809.\n",
      "Score at timestep 79097: 1.1868167346647827.\n",
      "Score at timestep 80944: 1.961278798736116.\n",
      "Score at timestep 82783: 1.7002322780314312.\n",
      "Score at timestep 84615: 1.0833210529695154.\n",
      "Score at timestep 86463: 1.8934943661588277.\n",
      "Score at timestep 88313: 2.0209119416021504.\n",
      "Score at timestep 90163: 2.0251504673158873.\n",
      "Score at timestep 92009: 1.949799665058655.\n",
      "Score at timestep 93854: 2.062277095368383.\n",
      "Score at timestep 95698: 2.0393198930837904.\n",
      "Score at timestep 97540: 1.9934553830984738.\n"
     ]
    },
    {
     "name": "stderr",
     "output_type": "stream",
     "text": [
      "100%|██████████████████████████████████████████████████████████████████████████████████████████████████████████████████████████████████████████████████████████████████████████████████████████████████████████| 1/1 [00:06<00:00,  6.25s/it]\n"
     ]
    }
   ],
   "source": [
    "model_name = 'REINFORCE'\n",
    "dataset = 'DOW30'\n",
    "reward = False\n",
    "print_every = 1\n",
    "#timestep = 10_000\n",
    "#trading_cost = 0.0\n",
    "\n",
    "timesteps = [10_000, 100_000]\n",
    "trading_costs = [0, 0.001, 0.01]\n",
    "\n",
    "for timestep in timesteps:\n",
    "    for trading_cost in trading_costs:\n",
    "        if reward:\n",
    "            strng = 'LogRets'\n",
    "        else:\n",
    "            strng = 'ShRt'\n",
    "\n",
    "        path = f'Reward-{strng}_timestep-{timestep}_trading_cost-{trading_cost}'\n",
    "        isExist = os.path.exists(path)\n",
    "        if not isExist:\n",
    "            os.makedirs(path) \n",
    "\n",
    "        name = f'{path}/{model_name}_{path}'\n",
    "\n",
    "        trainer = Trainer('../data/DOW30.csv', \n",
    "                         experiment_name = name, \n",
    "                         timesteps = timestep, \n",
    "                         print_every = print_every,\n",
    "                         episode_length = None,\n",
    "                         returns = reward,\n",
    "                         trading_cost_ratio = trading_cost ,\n",
    "                         lookback_period = 64,\n",
    "                         initial_investment = 1_000_000,\n",
    "                         random_start_range = 20,\n",
    "                         dsr_constant = 1e-4,\n",
    "                         add_softmax = True)\n",
    "\n",
    "        env = trainer.get_train_env()\n",
    "        model = REINFORCEAgent(env, device = 'cpu')\n",
    "        returns = trainer.run(model)"
   ]
  },
  {
   "cell_type": "code",
   "execution_count": null,
   "id": "1c3d682d-72c7-460c-ae10-d3bef6e06e14",
   "metadata": {},
   "outputs": [],
   "source": []
  },
  {
   "cell_type": "code",
   "execution_count": null,
   "id": "22ed50b9",
   "metadata": {},
   "outputs": [],
   "source": []
  }
 ],
 "metadata": {
  "kernelspec": {
   "display_name": "Python 3 (ipykernel)",
   "language": "python",
   "name": "python3"
  },
  "language_info": {
   "codemirror_mode": {
    "name": "ipython",
    "version": 3
   },
   "file_extension": ".py",
   "mimetype": "text/x-python",
   "name": "python",
   "nbconvert_exporter": "python",
   "pygments_lexer": "ipython3",
   "version": "3.9.5"
  }
 },
 "nbformat": 4,
 "nbformat_minor": 5
}
